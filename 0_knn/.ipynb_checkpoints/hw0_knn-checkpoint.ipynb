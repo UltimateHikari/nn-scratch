{
 "cells": [
  {
   "cell_type": "markdown",
   "id": "f3ab9541",
   "metadata": {},
   "source": [
    "### HW.0: KNN\n",
    "1. Распознавание растровых grayscale изображений через KNN. Равномерное и неравномерное зашумление, сравнить процент для разных k. Сравнить разные меры близости.\n",
    "2. Добавить выбросы типа 0. Тип 1 - не распознаются KNN, тип 2 - не распознаются ODIN. Сравнить результаты."
   ]
  },
  {
   "cell_type": "code",
   "execution_count": 74,
   "id": "870dda1a",
   "metadata": {},
   "outputs": [],
   "source": [
    "from math import sqrt\n",
    "\n",
    "\n",
    "def euclidean_squared(row1, row2):\n",
    "    distance = 0.0\n",
    "    for i in range(len(row1)-1):\n",
    "        distance += (row1[i] - row2[i])**2\n",
    "    return distance\n",
    "\n",
    "def euclidean_distance(row1, row2):\n",
    "    return sqrt(euclidean_squared(row1, row2))\n",
    "\n",
    "def metric_distance(row1, row2):\n",
    "    distance = 0.0\n",
    "    for i in range(len(row1)-1):\n",
    "        distance += abs(row1[i] - row2[i])\n",
    "    return distance\n",
    "\n",
    "def cheb_distance(row1, row2):\n",
    "    distance = 0.0\n",
    "    for i in range(len(row1)-1):\n",
    "        d = abs(row1[i] - row2[i])\n",
    "        if d > distance:\n",
    "            distance = d\n",
    "    return distance\n",
    "\n",
    "def accuracy(ypred, ytest):\n",
    "    match = sum(int(a==b) for a,b in zip(ypred, ytest))\n",
    "    return match/len(ypred)\n",
    "\n",
    "class SimpleKNN:\n",
    "    def __init__(self, k, distance):\n",
    "        self.distf = distance\n",
    "        self.k = k \n",
    "        \n",
    "    def predict(self, x_train, y_train, x_test):\n",
    "        self.x_train = x_train\n",
    "        self.y_train = y_train\n",
    "        self.x_test = x_test\n",
    "        res = list()\n",
    "        for row in x_test:\n",
    "            neighbors = self.get_neighbors(row)\n",
    "            prediction = self.make_prediction(neighbors)\n",
    "            res.append(prediction)\n",
    "        return res\n",
    "            \n",
    "    def get_neighbors(self, test_row):\n",
    "        d = list()\n",
    "        n = list()\n",
    "        for row, c in zip(self.x_train, self.y_train):\n",
    "            dist = self.distf(row, test_row)\n",
    "            d.append((row,dist,c))\n",
    "        d.sort(key=lambda a: a[1])\n",
    "        for i in range(self.k):\n",
    "            n.append(d[i])\n",
    "        return n\n",
    "            \n",
    "        \n",
    "    def make_prediction(self, neighbors):\n",
    "        classes = [row[-1] for row in neighbors]\n",
    "        return max(set(classes), key=classes.count)\n",
    "        "
   ]
  },
  {
   "cell_type": "code",
   "execution_count": 3,
   "id": "8e8c0088",
   "metadata": {},
   "outputs": [
    {
     "name": "stdout",
     "output_type": "stream",
     "text": [
      "(1797, 64)\n"
     ]
    }
   ],
   "source": [
    "from sklearn.datasets import load_digits\n",
    "\n",
    "digits = load_digits()\n",
    "print(digits.data.shape)"
   ]
  },
  {
   "cell_type": "code",
   "execution_count": 8,
   "id": "526b2647",
   "metadata": {},
   "outputs": [],
   "source": [
    "from sklearn.model_selection import train_test_split\n",
    "\n",
    "X_train, X_test, y_train, y_test = train_test_split(\n",
    "    digits.data, digits.target, test_size=0.7, shuffle=False\n",
    ")"
   ]
  },
  {
   "cell_type": "markdown",
   "id": "3d574298",
   "metadata": {},
   "source": [
    "## Evaluation"
   ]
  },
  {
   "cell_type": "code",
   "execution_count": 69,
   "id": "082deff4",
   "metadata": {},
   "outputs": [],
   "source": [
    "def perform_test(max_k, dist_func):\n",
    "    for i in range(1, max_k + 1):\n",
    "        predictor = SimpleKNN(i, dist_func)\n",
    "        ypred = predictor.predict(X_train, y_train, X_test)\n",
    "        print(\"i: \", i, \" accuracy: \", accuracy(ypred, y_test))"
   ]
  },
  {
   "cell_type": "code",
   "execution_count": 70,
   "id": "0204e32f",
   "metadata": {},
   "outputs": [
    {
     "name": "stdout",
     "output_type": "stream",
     "text": [
      "i:  1  accuracy:  0.9451510333863276\n",
      "i:  2  accuracy:  0.9324324324324325\n",
      "i:  3  accuracy:  0.9435612082670907\n",
      "i:  4  accuracy:  0.9427662957074722\n",
      "i:  5  accuracy:  0.93879173290938\n",
      "i:  6  accuracy:  0.9348171701112877\n",
      "i:  7  accuracy:  0.9332273449920508\n",
      "i:  8  accuracy:  0.9260731319554849\n",
      "i:  9  accuracy:  0.9236883942766295\n",
      "i:  10  accuracy:  0.9173290937996821\n"
     ]
    }
   ],
   "source": [
    "perform_test(10, euclidean_distance)"
   ]
  },
  {
   "cell_type": "code",
   "execution_count": 71,
   "id": "1c1f3954",
   "metadata": {},
   "outputs": [
    {
     "name": "stdout",
     "output_type": "stream",
     "text": [
      "i:  1  accuracy:  0.9451510333863276\n",
      "i:  2  accuracy:  0.9324324324324325\n",
      "i:  3  accuracy:  0.9435612082670907\n",
      "i:  4  accuracy:  0.9427662957074722\n",
      "i:  5  accuracy:  0.93879173290938\n",
      "i:  6  accuracy:  0.9348171701112877\n",
      "i:  7  accuracy:  0.9332273449920508\n",
      "i:  8  accuracy:  0.9260731319554849\n",
      "i:  9  accuracy:  0.9236883942766295\n",
      "i:  10  accuracy:  0.9173290937996821\n"
     ]
    }
   ],
   "source": [
    "perform_test(10, euclidean_squared)"
   ]
  },
  {
   "cell_type": "code",
   "execution_count": 72,
   "id": "28a2e25a",
   "metadata": {},
   "outputs": [
    {
     "name": "stdout",
     "output_type": "stream",
     "text": [
      "i:  1  accuracy:  0.9395866454689984\n",
      "i:  2  accuracy:  0.9300476947535771\n",
      "i:  3  accuracy:  0.9443561208267091\n",
      "i:  4  accuracy:  0.9411764705882353\n",
      "i:  5  accuracy:  0.9403815580286169\n",
      "i:  6  accuracy:  0.9364069952305246\n",
      "i:  7  accuracy:  0.9348171701112877\n",
      "i:  8  accuracy:  0.9260731319554849\n",
      "i:  9  accuracy:  0.9220985691573926\n",
      "i:  10  accuracy:  0.9165341812400636\n"
     ]
    }
   ],
   "source": [
    "perform_test(10, metric_distance)"
   ]
  },
  {
   "cell_type": "code",
   "execution_count": 75,
   "id": "d1b617d5",
   "metadata": {},
   "outputs": [
    {
     "name": "stdout",
     "output_type": "stream",
     "text": [
      "i:  1  accuracy:  0.9181240063593005\n",
      "i:  2  accuracy:  0.8910969793322735\n",
      "i:  3  accuracy:  0.9133545310015898\n",
      "i:  4  accuracy:  0.8982511923688394\n",
      "i:  5  accuracy:  0.9054054054054054\n",
      "i:  6  accuracy:  0.8942766295707473\n",
      "i:  7  accuracy:  0.8982511923688394\n",
      "i:  8  accuracy:  0.8926868044515104\n",
      "i:  9  accuracy:  0.8990461049284578\n",
      "i:  10  accuracy:  0.890302066772655\n"
     ]
    }
   ],
   "source": [
    "perform_test(10, cheb_distance)"
   ]
  },
  {
   "cell_type": "markdown",
   "id": "aa7abdcb",
   "metadata": {},
   "source": [
    "## Noise"
   ]
  },
  {
   "cell_type": "code",
   "execution_count": 77,
   "id": "957c74ae",
   "metadata": {},
   "outputs": [],
   "source": [
    "from random import randint\n",
    "import numpy as np\n",
    "\n",
    "def additive_noise(rows, delta):\n",
    "    res = rows.copy()\n",
    "    for row in res:\n",
    "        for i in row:\n",
    "            i = np.clip(i + randint(-1*delta,delta), 0, 255)\n",
    "    return res"
   ]
  },
  {
   "cell_type": "code",
   "execution_count": 78,
   "id": "0eb512d2",
   "metadata": {},
   "outputs": [],
   "source": [
    "noised = additive_noise(X_train[:100], 5)"
   ]
  },
  {
   "cell_type": "code",
   "execution_count": 82,
   "id": "ad36b3b0",
   "metadata": {},
   "outputs": [
    {
     "name": "stdout",
     "output_type": "stream",
     "text": [
      "accuracy:  0.99\n"
     ]
    }
   ],
   "source": [
    "predictor = SimpleKNN(5, euclidean_distance)\n",
    "ypred = predictor.predict(X_train, y_train, noised)\n",
    "print(\"accuracy: \", accuracy(ypred, y_train[:100]))"
   ]
  },
  {
   "cell_type": "markdown",
   "id": "9e10cb4f",
   "metadata": {},
   "source": [
    "## ODIN"
   ]
  },
  {
   "cell_type": "code",
   "execution_count": null,
   "id": "8995efe5",
   "metadata": {},
   "outputs": [],
   "source": []
  }
 ],
 "metadata": {
  "kernelspec": {
   "display_name": "Python 3 (ipykernel)",
   "language": "python",
   "name": "python3"
  },
  "language_info": {
   "codemirror_mode": {
    "name": "ipython",
    "version": 3
   },
   "file_extension": ".py",
   "mimetype": "text/x-python",
   "name": "python",
   "nbconvert_exporter": "python",
   "pygments_lexer": "ipython3",
   "version": "3.11.6"
  }
 },
 "nbformat": 4,
 "nbformat_minor": 5
}
